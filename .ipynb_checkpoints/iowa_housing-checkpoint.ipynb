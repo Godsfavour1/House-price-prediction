{
 "cells": [
  {
   "cell_type": "code",
   "execution_count": null,
   "metadata": {},
   "outputs": [],
   "source": [
    "!git init"
   ]
  },
  {
   "cell_type": "markdown",
   "metadata": {},
   "source": [
    "### Import the necessary libraries"
   ]
  },
  {
   "cell_type": "code",
   "execution_count": null,
   "metadata": {},
   "outputs": [],
   "source": [
    "import numpy as np\n",
    "import pandas as pd\n",
    "import matplotlib.pyplot as plt\n",
    "import seaborn as sns\n",
    "from sklearn.metrics import mean_absolute_error\n",
    "from sklearn.model_selection import train_test_split\n",
    "from sklearn.ensemble import RandomForestRegressor\n",
    "from sklearn.impute import SimpleImputer\n",
    "from sklearn.pipeline import Pipeline\n",
    "from sklearn.preprocessing import OneHotEncoder\n",
    "from sklearn.compose import ColumnTransformer\n",
    "from sklearn.metrics import mean_absolute_error  \n",
    "from sklearn.ensemble import RandomForestRegressor\n",
    "\n",
    "%matplotlib inline"
   ]
  },
  {
   "cell_type": "markdown",
   "metadata": {},
   "source": [
    "#### Load dataset"
   ]
  },
  {
   "cell_type": "code",
   "execution_count": null,
   "metadata": {},
   "outputs": [],
   "source": [
    "train_data = pd.read_csv('train.csv', index_col = 'Id')\n",
    "test_data = pd.read_csv('test.csv', index_col = 'Id')\n",
    "train_data.head()"
   ]
  },
  {
   "cell_type": "code",
   "execution_count": null,
   "metadata": {},
   "outputs": [],
   "source": [
    "test_data.head()"
   ]
  },
  {
   "cell_type": "code",
   "execution_count": null,
   "metadata": {},
   "outputs": [],
   "source": [
    "print(train_data.shape)\n",
    "print(test_data.shape)"
   ]
  },
  {
   "cell_type": "markdown",
   "metadata": {},
   "source": [
    "### About the dataset\n",
    "\n",
    "The train data consist of 80 columns and 1460 rows. The rows represent different houses for while the columns reresents different features of these houses. Some of these features are explained below.\n",
    "\n",
    "MSSubClass: Identifies the type of dwelling involved in the sale.\n",
    "\n",
    "MSZoning: Identifies the general zoning classification of the sale.\n",
    "\n",
    "LotArea: Lot size in square feet\n",
    "\n",
    "LotShape: General shape of property\n",
    "\n",
    "Street: Type of road access to property\n",
    "\n",
    "Utilities: Type of utilities available\n",
    "\n",
    "OverallCond: Rates the overall condition of the house\n",
    "\n",
    "OverallQual: Rates the overall material and finish of the house\n",
    "\n",
    "YearBuilt: Original construction date\n",
    "\n",
    "YearRemodAdd: Remodel date (same as construction date if no remodeling or additions)\n",
    "\n",
    "MasVnrType: Masonry veneer type\n",
    "\n",
    "MasVnrArea: Masonry veneer area in square feet\n",
    "\n",
    "ExterQual: Evaluates the quality of the material on the exterior\n",
    "\n",
    "ExterCond: Evaluates the present condition of the material on the exterior\n",
    "\n",
    "BsmtQual: Evaluates the height of the basement\n",
    "\n",
    "BsmtCond: Evaluates the general condition of the basement\n",
    "\n",
    "KitchenQual: Kitchen quality\n",
    "\n",
    "GarageYrBlt: Year garage was built\n",
    "\n",
    "BldgType: Type of dwelling"
   ]
  },
  {
   "cell_type": "code",
   "execution_count": null,
   "metadata": {},
   "outputs": [],
   "source": [
    "!git status"
   ]
  },
  {
   "cell_type": "code",
   "execution_count": null,
   "metadata": {},
   "outputs": [],
   "source": [
    "!git add ."
   ]
  },
  {
   "cell_type": "code",
   "execution_count": null,
   "metadata": {},
   "outputs": [],
   "source": [
    "!git commit -m \"load datasets\""
   ]
  },
  {
   "cell_type": "markdown",
   "metadata": {},
   "source": [
    "#### data assessment and exploration"
   ]
  },
  {
   "cell_type": "code",
   "execution_count": null,
   "metadata": {},
   "outputs": [],
   "source": [
    "train_data.info()"
   ]
  },
  {
   "cell_type": "code",
   "execution_count": null,
   "metadata": {},
   "outputs": [],
   "source": [
    "#check columns with missing values\n",
    "train_data.isnull().sum()[train_data.isnull().sum() > 0]"
   ]
  },
  {
   "cell_type": "code",
   "execution_count": null,
   "metadata": {},
   "outputs": [],
   "source": [
    "#Drop all columns with more than 81 missing values\n",
    "#81 so as to include details about the garage\n",
    "missing_cols_to_drop = [col for col in train_data.columns if train_data[col].isnull().sum() > 81]\n",
    "train_data = train_data.drop(missing_cols_to_drop, axis = 1)\n",
    "train_data.isnull().sum()[train_data.isnull().sum() > 0]"
   ]
  },
  {
   "cell_type": "code",
   "execution_count": null,
   "metadata": {},
   "outputs": [],
   "source": [
    "temp_num_cols = [col for col in train_data.columns if train_data[col].dtypes in ['int64', 'float64']]\n",
    "\n",
    "#Remove columns object columns with too many unique entries (high dimentionality)\n",
    "temp_obj_cols = [col for col in train_data.columns if train_data[col].dtypes == 'object' and train_data[col].nunique() < 6]\n",
    "train_data[temp_obj_cols].nunique()"
   ]
  },
  {
   "cell_type": "code",
   "execution_count": null,
   "metadata": {},
   "outputs": [],
   "source": [
    "#It is possible the entries in train and test data differ in some categorical columns\n",
    "non_uniform_cat_cols = []\n",
    "\n",
    "for col in temp_obj_cols:\n",
    "    for i in train_data[col].unique():\n",
    "        if isinstance(i, str) and i not in test_data[col].unique():\n",
    "            non_uniform_cat_cols.append(col)\n",
    "non_uniform_cat_cols"
   ]
  },
  {
   "cell_type": "code",
   "execution_count": null,
   "metadata": {},
   "outputs": [],
   "source": [
    "#update temp_obj_cols\n",
    "obj_cols = [e for e in temp_obj_cols if e not in non_uniform_cat_cols]"
   ]
  },
  {
   "cell_type": "code",
   "execution_count": null,
   "metadata": {},
   "outputs": [],
   "source": [
    "train_data.describe()"
   ]
  },
  {
   "cell_type": "markdown",
   "metadata": {},
   "source": [
    "some columns have as high as the 3rd quartile as 0. The mean of many values are greatly affected by extreme values. The lot area for example, has 75% of its distribution below 11,700 but a mean of of 10,516 and standard deviation of 9981."
   ]
  },
  {
   "cell_type": "markdown",
   "metadata": {},
   "source": [
    "##### SalePrice"
   ]
  },
  {
   "cell_type": "code",
   "execution_count": null,
   "metadata": {},
   "outputs": [],
   "source": [
    "plt.figure(figsize = [15,6])\n",
    "plt.subplot(1,2,1)\n",
    "plt.hist(data = train_data, x = 'SalePrice', bins = 50)\n",
    "plt.xlabel('SalePrice')\n",
    "plt.ylabel('Distribution Proportion')\n",
    "\n",
    "plt.subplot(1,2,2)\n",
    "sns.swarmplot(y = train_data['SalePrice']);"
   ]
  },
  {
   "cell_type": "markdown",
   "metadata": {},
   "source": [
    "The SalePrice distribution is right skewed. The modal house price is between 130,000 and 160,000. Majority of the SalePrice ranges between 100,000 to 220,000."
   ]
  },
  {
   "cell_type": "markdown",
   "metadata": {},
   "source": [
    "#### LotArea"
   ]
  },
  {
   "cell_type": "code",
   "execution_count": null,
   "metadata": {},
   "outputs": [],
   "source": [
    "plt.figure(figsize = [15,10])\n",
    "plt.subplot(2,2,1)\n",
    "plt.hist(data = train_data, x = 'LotArea', bins = 50)\n",
    "plt.xlabel('LotArea')\n",
    "plt.ylabel('Distribution')\n",
    "\n",
    "plt.subplot(2,2,2)\n",
    "sns.violinplot(y = train_data['LotArea'])\n",
    "\n",
    "plt.subplot(2,2,3)\n",
    "plt.hist(data = train_data, x = 'LotArea', bins = 80)\n",
    "plt.xlim(0, 80000)\n",
    "plt.xlabel('LotArea')\n",
    "plt.ylabel('Distribution')\n",
    "\n",
    "\n",
    "plt.subplot(2,2,4)\n",
    "sns.violinplot(y = train_data['LotArea'])\n",
    "plt.ylim(-10000,70000);"
   ]
  },
  {
   "cell_type": "markdown",
   "metadata": {},
   "source": [
    "The LotArea distribution is right skewed. Modal LotArea ranges between 8,000 and 12,000 and just about 4 houses have LotAreas greater than 100000. Majority of LotAreas are below 30,000"
   ]
  },
  {
   "cell_type": "code",
   "execution_count": null,
   "metadata": {},
   "outputs": [],
   "source": [
    "#those 4 houses are outliers. remove outliers in LotArea\n",
    "train_data = train_data[train_data.LotArea < 100000]"
   ]
  },
  {
   "cell_type": "markdown",
   "metadata": {},
   "source": [
    "##### remodel year and saleprice"
   ]
  },
  {
   "cell_type": "code",
   "execution_count": null,
   "metadata": {},
   "outputs": [],
   "source": [
    "plt.figure(figsize = [15,6])\n",
    "sns.pointplot(data = train_data, x = 'YearRemodAdd', y = 'SalePrice', ci = None)\n",
    "plt.xticks(rotation = 90);"
   ]
  },
  {
   "cell_type": "markdown",
   "metadata": {},
   "source": [
    "There is an increase in SalePrice as the Remodel date of the houses increase."
   ]
  },
  {
   "cell_type": "markdown",
   "metadata": {},
   "source": [
    "#### Building types and MSZoning"
   ]
  },
  {
   "cell_type": "code",
   "execution_count": null,
   "metadata": {},
   "outputs": [],
   "source": [
    "plt.figure(figsize = [12,6])\n",
    "plt.subplot(1,2,1)\n",
    "sns.countplot(data = train_data, x = 'BldgType')\n",
    "\n",
    "plt.subplot(1,2,2)\n",
    "sns.barplot(data = train_data, x = 'BldgType', y = 'SalePrice');"
   ]
  },
  {
   "cell_type": "code",
   "execution_count": null,
   "metadata": {},
   "outputs": [],
   "source": [
    "sns.countplot(data = train_data, x = 'MSZoning')\n",
    "\n",
    "g = sns.FacetGrid(data = train_data, hue = 'MSZoning', height = 6)\n",
    "g.map(plt.scatter, 'LotArea', 'SalePrice')\n",
    "g.add_legend();"
   ]
  },
  {
   "cell_type": "markdown",
   "metadata": {},
   "source": [
    "RH - Residential High Density;\n",
    "C - Commercial;\n",
    "FV - Floating Village Residential;\n",
    "RL - Residential Low Density;\n",
    "RM - Residential Medium Density\n",
    "\n",
    "\n",
    "There are more houses in the Residential low density areas  and they have bigger sizes and cost more. Generally, SalePrice increase as LotArea increase"
   ]
  },
  {
   "cell_type": "code",
   "execution_count": null,
   "metadata": {},
   "outputs": [],
   "source": [
    "!git add ."
   ]
  },
  {
   "cell_type": "code",
   "execution_count": null,
   "metadata": {},
   "outputs": [],
   "source": [
    "!git commit -m \"data wrangling\""
   ]
  },
  {
   "cell_type": "code",
   "execution_count": null,
   "metadata": {},
   "outputs": [],
   "source": []
  },
  {
   "cell_type": "code",
   "execution_count": null,
   "metadata": {},
   "outputs": [],
   "source": []
  }
 ],
 "metadata": {
  "kernelspec": {
   "display_name": "Python 3 (ipykernel)",
   "language": "python",
   "name": "python3"
  },
  "language_info": {
   "codemirror_mode": {
    "name": "ipython",
    "version": 3
   },
   "file_extension": ".py",
   "mimetype": "text/x-python",
   "name": "python",
   "nbconvert_exporter": "python",
   "pygments_lexer": "ipython3",
   "version": "3.7.4"
  }
 },
 "nbformat": 4,
 "nbformat_minor": 2
}
